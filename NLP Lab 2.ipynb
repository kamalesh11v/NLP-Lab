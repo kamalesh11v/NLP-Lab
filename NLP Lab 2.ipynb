{
 "cells": [
  {
   "cell_type": "markdown",
   "id": "4f6a0126",
   "metadata": {},
   "source": [
    "## Name: Kamaleshwar Viyanwar\n",
    "## Roll No: 43\n",
    "## Batch : C3"
   ]
  },
  {
   "cell_type": "code",
   "execution_count": 2,
   "id": "9b68edd6",
   "metadata": {},
   "outputs": [
    {
     "name": "stderr",
     "output_type": "stream",
     "text": [
      "[nltk_data] Downloading package gutenberg to\n",
      "[nltk_data]     C:\\Users\\cse\\AppData\\Roaming\\nltk_data...\n",
      "[nltk_data]   Package gutenberg is already up-to-date!\n",
      "[nltk_data] Downloading package punkt to\n",
      "[nltk_data]     C:\\Users\\cse\\AppData\\Roaming\\nltk_data...\n",
      "[nltk_data]   Package punkt is already up-to-date!\n",
      "[nltk_data] Downloading package stopwords to\n",
      "[nltk_data]     C:\\Users\\cse\\AppData\\Roaming\\nltk_data...\n",
      "[nltk_data]   Package stopwords is already up-to-date!\n",
      "[nltk_data] Downloading package averaged_perceptron_tagger to\n",
      "[nltk_data]     C:\\Users\\cse\\AppData\\Roaming\\nltk_data...\n",
      "[nltk_data]   Package averaged_perceptron_tagger is already up-to-\n",
      "[nltk_data]       date!\n"
     ]
    },
    {
     "name": "stdout",
     "output_type": "stream",
     "text": [
      "\n",
      "Statistics for Gutenberg:\n",
      "Number of Documents: 18\n",
      "Total Words: 2621613\n",
      "Total Sentences: 98552\n",
      "Tagged: No\n",
      "\n"
     ]
    }
   ],
   "source": [
    "import nltk\n",
    "from nltk.tokenize import word_tokenize, sent_tokenize\n",
    "from nltk.corpus import gutenberg, stopwords\n",
    "from nltk import pos_tag\n",
    "from nltk.stem import PorterStemmer\n",
    "import string\n",
    "\n",
    "# Download required NLTK data if you haven't already\n",
    "nltk.download('gutenberg')\n",
    "nltk.download('punkt')\n",
    "nltk.download('stopwords')\n",
    "nltk.download('averaged_perceptron_tagger')\n",
    "\n",
    "# 1. Print Statistics of Corpora\n",
    "\n",
    "def print_corpus_stats(corpus_name, corpus):\n",
    "    print(f\"\\nStatistics for {corpus_name}:\")\n",
    "    print(f\"Number of Documents: {len(corpus.fileids())}\")\n",
    "    total_words = sum(len(corpus.words(file)) for file in corpus.fileids())\n",
    "    total_sentences = sum(len(corpus.sents(file)) for file in corpus.fileids())\n",
    "    print(f\"Total Words: {total_words}\")\n",
    "    print(f\"Total Sentences: {total_sentences}\")\n",
    "    print(f\"Tagged: {'Yes' if hasattr(corpus, 'tagged_words') else 'No'}\\n\")\n",
    "\n",
    "# Gutenberg corpus\n",
    "print_corpus_stats(\"Gutenberg\", gutenberg)\n",
    "\n"
   ]
  },
  {
   "cell_type": "code",
   "execution_count": 3,
   "id": "68e99b4b",
   "metadata": {},
   "outputs": [
    {
     "name": "stdout",
     "output_type": "stream",
     "text": [
      "\n",
      "Number of sentences: 7493\n",
      "Number of words: 191785\n"
     ]
    }
   ],
   "source": [
    "# 2. Access Document and Perform Tokenization\n",
    "\n",
    "# Select a document from Gutenberg corpus (e.g., 'austen-emma.txt')\n",
    "gutenberg_doc = gutenberg.raw('austen-emma.txt')\n",
    "\n",
    "# Tokenize the document into sentences and words\n",
    "sentences = sent_tokenize(gutenberg_doc)\n",
    "words = word_tokenize(gutenberg_doc)\n",
    "\n",
    "# Print the count of sentences and words\n",
    "print(f\"\\nNumber of sentences: {len(sentences)}\")\n",
    "print(f\"Number of words: {len(words)}\")\n",
    "\n"
   ]
  },
  {
   "cell_type": "code",
   "execution_count": 5,
   "id": "4e5df44e",
   "metadata": {},
   "outputs": [
    {
     "name": "stdout",
     "output_type": "stream",
     "text": [
      "\n",
      "Unique words (after removing stopwords and punctuation): ['unequalled', 'doubts', 'heightened', '_time_', 'court-plaister', 'dialogues', 'reminded', 'hopeless.', 'dispelled', 'absent', 'exteriors', 'excites', 'transformation', 'mother-in-law', 'faints', 'joy', 'repressed', 'distinction', 'stimulate', 'hardship']\n",
      "Number of unique words: 7807\n"
     ]
    }
   ],
   "source": [
    "# 3. Remove Stopwords and Punctuation, and Print Unique Words\n",
    "\n",
    "# Remove stopwords and punctuation\n",
    "stop_words = set(stopwords.words('english'))\n",
    "punctuation = set(string.punctuation)\n",
    "\n",
    "# Filter out stopwords and punctuation\n",
    "filtered_words = [word.lower() for word in words if word.lower() not in stop_words and word not in punctuation]\n",
    "\n",
    "# Get unique words\n",
    "unique_words = set(filtered_words)\n",
    "\n",
    "# Print unique words\n",
    "print(f\"\\nUnique words (after removing stopwords and punctuation): {list(unique_words)[:20]}\")  # Show first 20 unique words\n",
    "print(f\"Number of unique words: {len(unique_words)}\")\n",
    "\n"
   ]
  },
  {
   "cell_type": "code",
   "execution_count": 6,
   "id": "93db7d80",
   "metadata": {},
   "outputs": [
    {
     "name": "stdout",
     "output_type": "stream",
     "text": [
      "\n",
      "POS Tagging of the first 10 unique words: [('unequalled', 'JJ'), ('doubts', 'NNS'), ('heightened', 'VBD'), ('_time_', 'JJ'), ('court-plaister', 'NN'), ('dialogues', 'NNS'), ('reminded', 'VBD'), ('hopeless.', 'NN'), ('dispelled', 'VBN'), ('absent', 'JJ')]\n",
      "First 10 stemmed words: ['unequal', 'doubt', 'heighten', '_time_', 'court-plaist', 'dialogu', 'remind', 'hopeless.', 'dispel', 'absent']\n"
     ]
    }
   ],
   "source": [
    "# 4. Perform POS Tagging and Stemming (Using PorterStemmer)\n",
    "\n",
    "# Initialize the PorterStemmer\n",
    "stemmer = PorterStemmer()\n",
    "\n",
    "# Perform POS tagging on the unique words\n",
    "tagged_words = pos_tag(list(unique_words))\n",
    "\n",
    "# Perform stemming on the unique words\n",
    "stemmed_words = [stemmer.stem(word) for word in unique_words]\n",
    "\n",
    "# Print POS tagging results\n",
    "print(f\"\\nPOS Tagging of the first 10 unique words: {tagged_words[:10]}\")\n",
    "\n",
    "# Print the first 10 stemmed words\n",
    "print(f\"First 10 stemmed words: {stemmed_words[:10]}\")\n"
   ]
  },
  {
   "cell_type": "code",
   "execution_count": null,
   "id": "6b437f36",
   "metadata": {},
   "outputs": [],
   "source": []
  }
 ],
 "metadata": {
  "kernelspec": {
   "display_name": "Python 3 (ipykernel)",
   "language": "python",
   "name": "python3"
  },
  "language_info": {
   "codemirror_mode": {
    "name": "ipython",
    "version": 3
   },
   "file_extension": ".py",
   "mimetype": "text/x-python",
   "name": "python",
   "nbconvert_exporter": "python",
   "pygments_lexer": "ipython3",
   "version": "3.9.7"
  }
 },
 "nbformat": 4,
 "nbformat_minor": 5
}
