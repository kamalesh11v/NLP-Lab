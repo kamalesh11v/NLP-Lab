{
 "cells": [
  {
   "cell_type": "markdown",
   "id": "4d8f66dd-0db8-46e2-be71-08cd0af470b1",
   "metadata": {},
   "source": [
    "## Name : Kamaleshwar Viyanwar\n",
    "## Roll No : 43\n",
    "## batch : C3"
   ]
  },
  {
   "cell_type": "markdown",
   "id": "1b3677b1-6f2a-4a13-8586-e39cd1ad100e",
   "metadata": {},
   "source": [
    "## Write a Python programs to segment text into words, sentences and paragraph using regular expressions."
   ]
  },
  {
   "cell_type": "code",
   "execution_count": 2,
   "id": "0513676e-f133-4a37-84e2-9dc00eccffa4",
   "metadata": {},
   "outputs": [
    {
     "name": "stdout",
     "output_type": "stream",
     "text": [
      "Paragraphs:\n",
      "Paragraph 1: This is a sample text.\n",
      "Paragraph 2: It has multiple sentences. Here's another one!\n",
      "Paragraph 3: It also contains multiple paragraphs. See how it works.\n",
      "\n",
      "Sentences:\n",
      "Sentence 1: This is a sample text\n",
      "Sentence 2: It has multiple sentences\n",
      "Sentence 3: Here's another one\n",
      "Sentence 4: It also contains multiple paragraphs\n",
      "Sentence 5: See how it works\n",
      "\n",
      "Words:\n",
      "['This', 'is', 'a', 'sample', 'text', 'It', 'has', 'multiple', 'sentences', 'Here', 's', 'another', 'one', 'It', 'also', 'contains', 'multiple', 'paragraphs', 'See', 'how', 'it', 'works']\n"
     ]
    }
   ],
   "source": [
    "import re\n",
    "\n",
    "# Sample text\n",
    "text = \"\"\"This is a sample text.\n",
    "It has multiple sentences. Here's another one!\n",
    "\n",
    "It also contains multiple paragraphs. See how it works.\"\"\"\n",
    "\n",
    "# Segment into paragraphs\n",
    "paragraphs = re.split(r'\\n+', text)\n",
    "print(\"Paragraphs:\")\n",
    "for i, paragraph in enumerate(paragraphs, 1):\n",
    "    print(f\"Paragraph {i}: {paragraph}\")\n",
    "\n",
    "# Segment into sentences\n",
    "sentences = re.split(r'[.!?]+', text)\n",
    "sentences = [sentence.strip() for sentence in sentences if sentence.strip()]\n",
    "print(\"\\nSentences:\")\n",
    "for i, sentence in enumerate(sentences, 1):\n",
    "    print(f\"Sentence {i}: {sentence}\")\n",
    "\n",
    "# Segment into words\n",
    "words = re.findall(r'\\b\\w+\\b', text)\n",
    "print(\"\\nWords:\")\n",
    "print(words)\n"
   ]
  },
  {
   "cell_type": "markdown",
   "id": "2b8ad0f7-3db8-4576-a949-7206e4722398",
   "metadata": {},
   "source": [
    "## Write a Python program to tokenize sentences with NLTK, spacy and gensim in language other than English."
   ]
  },
  {
   "cell_type": "code",
   "execution_count": 3,
   "id": "c8f04bb0-28c7-4b43-8dc2-d1adcf7dda18",
   "metadata": {},
   "outputs": [
    {
     "name": "stdout",
     "output_type": "stream",
     "text": [
      "Requirement already satisfied: nltk in c:\\users\\cse\\anaconda3\\lib\\site-packages (3.8.1)\n",
      "Requirement already satisfied: spacy in c:\\users\\cse\\anaconda3\\lib\\site-packages (3.8.4)\n",
      "Requirement already satisfied: gensim in c:\\users\\cse\\anaconda3\\lib\\site-packages (4.3.3)\n",
      "Requirement already satisfied: click in c:\\users\\cse\\appdata\\roaming\\python\\python312\\site-packages (from nltk) (8.1.8)\n",
      "Requirement already satisfied: joblib in c:\\users\\cse\\anaconda3\\lib\\site-packages (from nltk) (1.4.2)\n",
      "Requirement already satisfied: regex>=2021.8.3 in c:\\users\\cse\\anaconda3\\lib\\site-packages (from nltk) (2024.9.11)\n",
      "Requirement already satisfied: tqdm in c:\\users\\cse\\anaconda3\\lib\\site-packages (from nltk) (4.66.5)\n",
      "Requirement already satisfied: spacy-legacy<3.1.0,>=3.0.11 in c:\\users\\cse\\anaconda3\\lib\\site-packages (from spacy) (3.0.12)\n",
      "Requirement already satisfied: spacy-loggers<2.0.0,>=1.0.0 in c:\\users\\cse\\anaconda3\\lib\\site-packages (from spacy) (1.0.5)\n",
      "Requirement already satisfied: murmurhash<1.1.0,>=0.28.0 in c:\\users\\cse\\anaconda3\\lib\\site-packages (from spacy) (1.0.12)\n",
      "Requirement already satisfied: cymem<2.1.0,>=2.0.2 in c:\\users\\cse\\anaconda3\\lib\\site-packages (from spacy) (2.0.11)\n",
      "Requirement already satisfied: preshed<3.1.0,>=3.0.2 in c:\\users\\cse\\anaconda3\\lib\\site-packages (from spacy) (3.0.9)\n",
      "Requirement already satisfied: thinc<8.4.0,>=8.3.4 in c:\\users\\cse\\anaconda3\\lib\\site-packages (from spacy) (8.3.4)\n",
      "Requirement already satisfied: wasabi<1.2.0,>=0.9.1 in c:\\users\\cse\\anaconda3\\lib\\site-packages (from spacy) (1.1.3)\n",
      "Requirement already satisfied: srsly<3.0.0,>=2.4.3 in c:\\users\\cse\\anaconda3\\lib\\site-packages (from spacy) (2.5.1)\n",
      "Requirement already satisfied: catalogue<2.1.0,>=2.0.6 in c:\\users\\cse\\anaconda3\\lib\\site-packages (from spacy) (2.0.10)\n",
      "Requirement already satisfied: weasel<0.5.0,>=0.1.0 in c:\\users\\cse\\anaconda3\\lib\\site-packages (from spacy) (0.4.1)\n",
      "Requirement already satisfied: typer<1.0.0,>=0.3.0 in c:\\users\\cse\\anaconda3\\lib\\site-packages (from spacy) (0.15.1)\n",
      "Requirement already satisfied: numpy>=1.19.0 in c:\\users\\cse\\anaconda3\\lib\\site-packages (from spacy) (1.26.4)\n",
      "Requirement already satisfied: requests<3.0.0,>=2.13.0 in c:\\users\\cse\\appdata\\roaming\\python\\python312\\site-packages (from spacy) (2.32.3)\n",
      "Requirement already satisfied: pydantic!=1.8,!=1.8.1,<3.0.0,>=1.7.4 in c:\\users\\cse\\anaconda3\\lib\\site-packages (from spacy) (2.8.2)\n",
      "Requirement already satisfied: jinja2 in c:\\users\\cse\\appdata\\roaming\\python\\python312\\site-packages (from spacy) (3.1.5)\n",
      "Requirement already satisfied: setuptools in c:\\users\\cse\\anaconda3\\lib\\site-packages (from spacy) (75.1.0)\n",
      "Requirement already satisfied: packaging>=20.0 in c:\\users\\cse\\appdata\\roaming\\python\\python312\\site-packages (from spacy) (24.0)\n",
      "Requirement already satisfied: langcodes<4.0.0,>=3.2.0 in c:\\users\\cse\\anaconda3\\lib\\site-packages (from spacy) (3.5.0)\n",
      "Requirement already satisfied: scipy<1.14.0,>=1.7.0 in c:\\users\\cse\\anaconda3\\lib\\site-packages (from gensim) (1.13.1)\n",
      "Requirement already satisfied: smart-open>=1.8.1 in c:\\users\\cse\\anaconda3\\lib\\site-packages (from gensim) (5.2.1)\n",
      "Requirement already satisfied: language-data>=1.2 in c:\\users\\cse\\anaconda3\\lib\\site-packages (from langcodes<4.0.0,>=3.2.0->spacy) (1.3.0)\n",
      "Requirement already satisfied: annotated-types>=0.4.0 in c:\\users\\cse\\anaconda3\\lib\\site-packages (from pydantic!=1.8,!=1.8.1,<3.0.0,>=1.7.4->spacy) (0.6.0)\n",
      "Requirement already satisfied: pydantic-core==2.20.1 in c:\\users\\cse\\anaconda3\\lib\\site-packages (from pydantic!=1.8,!=1.8.1,<3.0.0,>=1.7.4->spacy) (2.20.1)\n",
      "Requirement already satisfied: typing-extensions>=4.6.1 in c:\\users\\cse\\anaconda3\\lib\\site-packages (from pydantic!=1.8,!=1.8.1,<3.0.0,>=1.7.4->spacy) (4.11.0)\n",
      "Requirement already satisfied: charset-normalizer<4,>=2 in c:\\users\\cse\\appdata\\roaming\\python\\python312\\site-packages (from requests<3.0.0,>=2.13.0->spacy) (3.3.2)\n",
      "Requirement already satisfied: idna<4,>=2.5 in c:\\users\\cse\\appdata\\roaming\\python\\python312\\site-packages (from requests<3.0.0,>=2.13.0->spacy) (3.7)\n",
      "Requirement already satisfied: urllib3<3,>=1.21.1 in c:\\users\\cse\\appdata\\roaming\\python\\python312\\site-packages (from requests<3.0.0,>=2.13.0->spacy) (2.2.2)\n",
      "Requirement already satisfied: certifi>=2017.4.17 in c:\\users\\cse\\appdata\\roaming\\python\\python312\\site-packages (from requests<3.0.0,>=2.13.0->spacy) (2024.7.4)\n",
      "Requirement already satisfied: blis<1.3.0,>=1.2.0 in c:\\users\\cse\\anaconda3\\lib\\site-packages (from thinc<8.4.0,>=8.3.4->spacy) (1.2.0)\n",
      "Requirement already satisfied: confection<1.0.0,>=0.0.1 in c:\\users\\cse\\anaconda3\\lib\\site-packages (from thinc<8.4.0,>=8.3.4->spacy) (0.1.5)\n",
      "Requirement already satisfied: colorama in c:\\users\\cse\\appdata\\roaming\\python\\python312\\site-packages (from tqdm->nltk) (0.4.6)\n",
      "Requirement already satisfied: shellingham>=1.3.0 in c:\\users\\cse\\anaconda3\\lib\\site-packages (from typer<1.0.0,>=0.3.0->spacy) (1.5.4)\n",
      "Requirement already satisfied: rich>=10.11.0 in c:\\users\\cse\\anaconda3\\lib\\site-packages (from typer<1.0.0,>=0.3.0->spacy) (13.7.1)\n",
      "Requirement already satisfied: cloudpathlib<1.0.0,>=0.7.0 in c:\\users\\cse\\anaconda3\\lib\\site-packages (from weasel<0.5.0,>=0.1.0->spacy) (0.20.0)\n",
      "Requirement already satisfied: MarkupSafe>=2.0 in c:\\users\\cse\\appdata\\roaming\\python\\python312\\site-packages (from jinja2->spacy) (3.0.2)\n",
      "Requirement already satisfied: marisa-trie>=1.1.0 in c:\\users\\cse\\anaconda3\\lib\\site-packages (from language-data>=1.2->langcodes<4.0.0,>=3.2.0->spacy) (1.2.1)\n",
      "Requirement already satisfied: markdown-it-py>=2.2.0 in c:\\users\\cse\\anaconda3\\lib\\site-packages (from rich>=10.11.0->typer<1.0.0,>=0.3.0->spacy) (2.2.0)\n",
      "Requirement already satisfied: pygments<3.0.0,>=2.13.0 in c:\\users\\cse\\appdata\\roaming\\python\\python312\\site-packages (from rich>=10.11.0->typer<1.0.0,>=0.3.0->spacy) (2.17.2)\n",
      "Requirement already satisfied: mdurl~=0.1 in c:\\users\\cse\\anaconda3\\lib\\site-packages (from markdown-it-py>=2.2.0->rich>=10.11.0->typer<1.0.0,>=0.3.0->spacy) (0.1.0)\n",
      "Collecting es-core-news-sm==3.8.0\n",
      "  Downloading https://github.com/explosion/spacy-models/releases/download/es_core_news_sm-3.8.0/es_core_news_sm-3.8.0-py3-none-any.whl (12.9 MB)\n",
      "     ---------------------------------------- 0.0/12.9 MB ? eta -:--:--\n",
      "     -------- ------------------------------- 2.9/12.9 MB 23.8 MB/s eta 0:00:01\n",
      "     ----------------------- ---------------- 7.6/12.9 MB 26.0 MB/s eta 0:00:01\n",
      "     --------------------------------------- 12.9/12.9 MB 25.2 MB/s eta 0:00:00\n",
      "\u001b[38;5;2m[+] Download and installation successful\u001b[0m\n",
      "You can now load the package via spacy.load('es_core_news_sm')\n"
     ]
    }
   ],
   "source": [
    "!pip install nltk spacy gensim\n",
    "!python -m spacy download es_core_news_sm\n"
   ]
  },
  {
   "cell_type": "code",
   "execution_count": 4,
   "id": "34d64484-1e21-4abb-b97b-a9f891fd36d5",
   "metadata": {},
   "outputs": [
    {
     "name": "stdout",
     "output_type": "stream",
     "text": [
      "Tokenized Sentences with NLTK:\n",
      "['Este es un texto de muestra.', 'Contiene varias oraciones.', '¡Es interesante!']\n",
      "\n",
      "Tokenized Sentences with SpaCy:\n",
      "['Este es un texto de muestra.', 'Contiene varias oraciones.', '¡Es interesante!']\n",
      "\n",
      "Tokenized Sentences with Gensim:\n",
      "['Este', 'es', 'un', 'texto', 'de', 'muestra', 'Contiene', 'varias', 'oraciones', 'Es', 'interesante']\n"
     ]
    },
    {
     "name": "stderr",
     "output_type": "stream",
     "text": [
      "[nltk_data] Downloading package punkt to\n",
      "[nltk_data]     C:\\Users\\cse\\AppData\\Roaming\\nltk_data...\n",
      "[nltk_data]   Package punkt is already up-to-date!\n"
     ]
    }
   ],
   "source": [
    "import nltk\n",
    "from nltk.tokenize import sent_tokenize\n",
    "import spacy\n",
    "from gensim.utils import tokenize\n",
    "\n",
    "# Load SpaCy Spanish model\n",
    "nlp = spacy.load(\"es_core_news_sm\")\n",
    "\n",
    "# Sample Spanish text\n",
    "spanish_text = \"Este es un texto de muestra. Contiene varias oraciones. ¡Es interesante!\"\n",
    "\n",
    "# Tokenize using NLTK\n",
    "nltk.download('punkt')\n",
    "nltk_sentences = sent_tokenize(spanish_text, language=\"spanish\")\n",
    "print(\"Tokenized Sentences with NLTK:\")\n",
    "print(nltk_sentences)\n",
    "\n",
    "# Tokenize using SpaCy\n",
    "doc = nlp(spanish_text)\n",
    "spacy_sentences = [sent.text for sent in doc.sents]\n",
    "print(\"\\nTokenized Sentences with SpaCy:\")\n",
    "print(spacy_sentences)\n",
    "\n",
    "# Tokenize using Gensim\n",
    "gensim_sentences = list(tokenize(spanish_text, lowercase=False))\n",
    "print(\"\\nTokenized Sentences with Gensim:\")\n",
    "print(gensim_sentences)\n"
   ]
  },
  {
   "cell_type": "code",
   "execution_count": null,
   "id": "594ad0dd-e574-4cfa-a1c5-0869dc14e485",
   "metadata": {},
   "outputs": [],
   "source": []
  }
 ],
 "metadata": {
  "kernelspec": {
   "display_name": "Python 3 (ipykernel)",
   "language": "python",
   "name": "python3"
  },
  "language_info": {
   "codemirror_mode": {
    "name": "ipython",
    "version": 3
   },
   "file_extension": ".py",
   "mimetype": "text/x-python",
   "name": "python",
   "nbconvert_exporter": "python",
   "pygments_lexer": "ipython3",
   "version": "3.12.7"
  }
 },
 "nbformat": 4,
 "nbformat_minor": 5
}
